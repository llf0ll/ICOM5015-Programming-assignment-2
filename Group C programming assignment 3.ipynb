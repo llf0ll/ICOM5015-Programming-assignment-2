{
 "cells": [
  {
   "cell_type": "markdown",
   "id": "384f6a13",
   "metadata": {},
   "source": [
    "![Portada](https://drive.google.com/uc?id=1-JvcZNPA61ampzAdhcCcXcPcGUcvdvn3)"
   ]
  },
  {
   "cell_type": "markdown",
   "id": "9e0fb353",
   "metadata": {},
   "source": [
    "## Resumen\n",
    "\n",
    "En trabajos anteriores se usaron los agentes reflejos. Esos tipos de agente son los más simples, dado a que toman una acción en función a su percepción, se observó buenos resultados en entornos pequeños como en el caso del mundo de la aspiradora. Sin embargo, es posible que dichos agentes no funcionen bien en entornos en los que el mapeo es demasiado grande para almacenar o lleva mucho tiempo aprenderlo. En este entender, los agentes basados en objetivos consideran acciones futuras y la conveniencia de sus resultados. Los ejercicios que se presentan en este trabajo se centran en la resolución de problemas través del método de la búsqueda haciendo uso de agentes basados en objetivos. Estos agentes ven los estados del mundo como un todo sin una estructura interna visible para los algoritmos de resolución de problemas. Los agentes basados en objetivos más avanzados que utilizan representaciones factorizadas o estructuradas se conocen como agentes de planificación. También se utilizarán varios algoritmos de búsqueda de propósito general, incluidos algoritmos de búsqueda **no informados** que resuelven problemas basándose únicamente en sus definiciones. Aunque estos algoritmos pueden resolver cualquier problema solucionable, no son muy eficientes. Por el contrario, los algoritmos de búsqueda **informados** funcionan mejor al brindar orientación sobre dónde buscar soluciones [1].\n"
   ]
  },
  {
   "cell_type": "markdown",
   "id": "083f0cc0-7dc1-4f76-aa43-626b38c0010d",
   "metadata": {},
   "source": [
    "# I. INTRODUCCION\n",
    "\n",
    "\n",
    "Los métodos que un agente puede utilizar para seleccionar acciones en entornos que son deterministas, observables, estáticos y completamente conocidos. La búsqueda es el proceso de construcción de secuencias de acciones que logran los objetivos del agente. Sin embargo, antes de iniciar el proceso de búsqueda, el agente debe identificar la meta y formular un problema bien definido que consta de cinco partes: **estado inicial, acciones, modelo de transición, función de prueba de meta y función de costo de ruta**. El entorno del problema está representado por un espacio de estado, y una ruta a través del espacio de estado desde el estado inicial hasta el estado objetivo es una solución. Los algoritmos de búsqueda tratan los **estados** y **las acciones como atómicos** y no consideran ninguna estructura interna que puedan poseer. Hay varios algoritmos de búsqueda, incluidos los métodos de búsqueda **no informados**, como la **búsqueda primero en amplitud, la búsqueda de costo uniforme, la búsqueda primero en profundidad, la búsqueda limitada en profundidad y la búsqueda iterativa en profundidad**. Los métodos de **búsqueda informada**, como la **mejor búsqueda primero, la mejor búsqueda codiciosa primero, la búsqueda A*, RBFS y SMA*, pueden tener acceso a una función heurística** que estima el costo de una solución desde un nodo. El rendimiento de los algoritmos de búsqueda heurística depende de la calidad de la función heurística, que a veces se puede construir relajando la definición del problema[1].\n",
    "El objetivo de este trabajo es visualizar y comparar el comportamiento de los algoritmos de busqueda informados, para esto se presenta un par de ejercicios en los cuales de hace uso de estos algoritmos de busqueda.\n",
    "\n",
    "Pregunta clave: ¿Todos los algoritmos de busqueda informados son iguales?"
   ]
  },
  {
   "cell_type": "markdown",
   "id": "f0d0ce01",
   "metadata": {},
   "source": [
    "# II. EJERCICIOS"
   ]
  },
  {
   "cell_type": "markdown",
   "id": "309d7e53",
   "metadata": {},
   "source": [
    "## A. Ejercicio 3.7\n",
    "**Considere el problema de encontrar el camino más corto entre dos puntos en un plano que tiene obstáculos poligonales convexos como se muestra en la Figura 3.31. Esta es una idealización del problema que tiene que resolver un robot para navegar en un entorno lleno de gente.**\n",
    "\n",
    "<img src=\"https://drive.google.com/uc?id=1kuv4yXZ__nx9Ju0rUSZxCATmCg-NB9Hx\" alt=\"agent\" width=\"500\" height=\"600\"/>\n",
    "\n"
   ]
  },
  {
   "cell_type": "markdown",
   "id": "85893fc7",
   "metadata": {},
   "source": [
    "**1. Suponga que el espacio de estado consta de todas las posiciones (x,y)\n",
    "  en el plano. ¿Cuántos estados hay? ¿Cuántos caminos hay hasta la meta?**\n",
    "  \n",
    "  Si consideramos todas las posiciones (x,y) del plano entonces tendriamos infinitos estados e infinitos caminos para llegar a la meta.\n",
    "  "
   ]
  },
  {
   "cell_type": "markdown",
   "id": "34c7087f",
   "metadata": {},
   "source": [
    "**2. Explique brevemente por qué el camino más corto de un vértice de un polígono a cualquier otro en la escena debe consistir en segmentos de línea recta que unen algunos de los vértices de los polígonos.**  \n",
    "\n",
    "En el plano las distancia más corta entre dos puntos es las linea recta que los une, si entre dos vértices de no hay un polígono que obstaculice entonces el camino constará de un segemento como en el caso 1 (camino rojo) de lo contrario el camino más corto será las unión de segmentos de línea como en el caso 2 (camino azul). Nótese que puede haber mas de un camino, sin embargo, el óptimo es aquel donde la distancia Euclidea es mínima. \n",
    "\n",
    "<img src=\"https://drive.google.com/uc?id=1LhRmAgerHlwTVWePnuu8q9QnDCttU_c9\" alt=\"agent\" width=\"500\" height=\"600\"/>\n",
    "\n",
    "\n",
    "**Defina un buen espacio de estado ahora. ¿Qué tan grande es este espacio de estado?**\n",
    "Usando esta nueva noción de camino el espacio de estado sería el conjunto de vértices de los polígonos y la dimensión del estado es el número de vértices más el estado de inicio y el estado de la meta, los cuales suman 35 en total."
   ]
  },
  {
   "cell_type": "markdown",
   "id": "60cde77d",
   "metadata": {},
   "source": [
    "**3. Defina las funciones necesarias para implementar el problema de búsqueda, incluida una función ACTIONS que toma un vértice como entrada y devuelve un conjunto de vectores, cada uno de los cuales asigna el vértice actual a uno de los vértices que se pueden alcanzar en línea recta. (No olvide los vecinos en el mismo polígono). Use la distancia en línea recta para la función heurística.**\n",
    "\n",
    "**function** ACTIONS(vertex)  \n",
    ">neighborsVertex = []  \n",
    ">**for** i=0 **to** numVertex **do**  \n",
    ">>**if** there is a straight-line path between vertex and setVertex(i):  \n",
    ">>>neighborsVertex.append(setVertex(i))  \n",
    ">**return** neighborsVertex  \n",
    "\n",
    "donde; \n",
    "<br>vertex: vértice estado\n",
    "<br>neighborsVertex: conjunto de vértices con los cuales vertex se conecta a través de un solo segmento (ver caso 1 del iniciso a)\n",
    "<br>numVertex: número de vértices\n",
    "<br>setVertex: conjunto de vértices del espacio de estado\n",
    "<br>setVertex(i): i-ésimo vértice de setVertex\n",
    "\n",
    "\n",
    "Las funciones necesarias para problemas de búsqueda se muestran abajo. Estas se obtuvieron del repositorio de UC Berkeley. Entre estas se tiene el método \"actions\" que se encuentra en la clase \"Problem\", tambien se cuenta con la funcion \"straight_line_distance\" para obtener la distancia de linea recta entre dos puntos. Así mismo, se tienen los distintos de algoritmos de búsqueda, entre ellos el \"breadth_first_search\", \"best_first_search\" y \"uniform_cost_search\". "
   ]
  },
  {
   "cell_type": "code",
   "execution_count": 1,
   "id": "7612eb65",
   "metadata": {},
   "outputs": [],
   "source": [
    "%matplotlib inline\n",
    "import matplotlib.pyplot as plt\n",
    "import random\n",
    "import heapq\n",
    "import math\n",
    "import sys\n",
    "from collections import defaultdict, deque, Counter\n",
    "from itertools import combinations\n",
    "\n",
    "\n",
    "class Problem(object):\n",
    "    \"\"\"The abstract class for a formal problem. A new domain subclasses this,\n",
    "    overriding `actions` and `results`, and perhaps other methods.\n",
    "    The default heuristic is 0 and the default action cost is 1 for all states.\n",
    "    When yiou create an instance of a subclass, specify `initial`, and `goal` states \n",
    "    (or give an `is_goal` method) and perhaps other keyword args for the subclass.\"\"\"\n",
    "\n",
    "    def __init__(self, initial=None, goal=None, **kwds): \n",
    "        self.__dict__.update(initial=initial, goal=goal, **kwds) \n",
    "        \n",
    "    def actions(self, state):        raise NotImplementedError\n",
    "    def result(self, state, action): raise NotImplementedError\n",
    "    def is_goal(self, state):        return state == self.goal\n",
    "    def action_cost(self, s, a, s1): return 1\n",
    "    def h(self, node):               return 0\n",
    "    \n",
    "    def __str__(self):\n",
    "        return '{}({!r}, {!r})'.format(\n",
    "            type(self).__name__, self.initial, self.goal)\n",
    "    \n",
    "\n",
    "class Node:\n",
    "    \"A Node in a search tree.\"\n",
    "    def __init__(self, state, parent=None, action=None, path_cost=0):\n",
    "        self.__dict__.update(state=state, parent=parent, action=action, path_cost=path_cost)\n",
    "\n",
    "    def __repr__(self): return '<{}>'.format(self.state)\n",
    "    def __len__(self): return 0 if self.parent is None else (1 + len(self.parent))\n",
    "    def __lt__(self, other): return self.path_cost < other.path_cost\n",
    "    \n",
    "    \n",
    "failure = Node('failure', path_cost=math.inf) # Indicates an algorithm couldn't find a solution.\n",
    "cutoff  = Node('cutoff',  path_cost=math.inf) # Indicates iterative deepening search was cut off.\n",
    "    \n",
    "    \n",
    "def expand(problem, node):\n",
    "    \"Expand a node, generating the children nodes.\"\n",
    "    s = node.state\n",
    "    for action in problem.actions(s):\n",
    "        s1 = problem.result(s, action)\n",
    "        cost = node.path_cost + problem.action_cost(s, action, s1)\n",
    "        yield Node(s1, node, action, cost)\n",
    "        \n",
    "\n",
    "def path_actions(node):\n",
    "    \"The sequence of actions to get to this node.\"\n",
    "    if node.parent is None:\n",
    "        return []  \n",
    "    return path_actions(node.parent) + [node.action]\n",
    "\n",
    "\n",
    "def path_states(node):\n",
    "    \"The sequence of states to get to this node.\"\n",
    "    if node in (cutoff, failure, None): \n",
    "        return []\n",
    "    return path_states(node.parent) + [node.state]"
   ]
  },
  {
   "cell_type": "code",
   "execution_count": 2,
   "id": "d6325f49",
   "metadata": {},
   "outputs": [],
   "source": [
    "FIFOQueue = deque\n",
    "\n",
    "LIFOQueue = list\n",
    "\n",
    "class PriorityQueue:\n",
    "    \"\"\"A queue in which the item with minimum f(item) is always popped first.\"\"\"\n",
    "\n",
    "    def __init__(self, items=(), key=lambda x: x): \n",
    "        self.key = key\n",
    "        self.items = [] # a heap of (score, item) pairs\n",
    "        for item in items:\n",
    "            self.add(item)\n",
    "         \n",
    "    def add(self, item):\n",
    "        \"\"\"Add item to the queuez.\"\"\"\n",
    "        pair = (self.key(item), item)\n",
    "        heapq.heappush(self.items, pair)\n",
    "\n",
    "    def pop(self):\n",
    "        \"\"\"Pop and return the item with min f(item) value.\"\"\"\n",
    "        return heapq.heappop(self.items)[1]\n",
    "    \n",
    "    def top(self): return self.items[0][1]\n",
    "\n",
    "    def __len__(self): return len(self.items)"
   ]
  },
  {
   "cell_type": "code",
   "execution_count": 3,
   "id": "db9961f5",
   "metadata": {},
   "outputs": [],
   "source": [
    "def breadth_first_search(problem):\n",
    "    \"Search shallowest nodes in the search tree first.\"\n",
    "    node = Node(problem.initial)\n",
    "    if problem.is_goal(problem.initial):\n",
    "        return node\n",
    "    frontier = FIFOQueue([node])\n",
    "    reached = {problem.initial}\n",
    "    while frontier:\n",
    "        node = frontier.pop()\n",
    "        for child in expand(problem, node):\n",
    "            s = child.state\n",
    "            if problem.is_goal(s):\n",
    "                return child\n",
    "            if s not in reached:\n",
    "                reached.add(s)\n",
    "                frontier.appendleft(child)\n",
    "    return failure\n",
    "\n",
    "def g(n): return n.path_cost\n",
    "\n",
    "\n",
    "def best_first_search(problem, f):\n",
    "    \"Search nodes with minimum f(node) value first.\"\n",
    "    node = Node(problem.initial)\n",
    "    frontier = PriorityQueue([node], key=f)\n",
    "    reached = {problem.initial: node}\n",
    "    while frontier:\n",
    "        node = frontier.pop()\n",
    "        if problem.is_goal(node.state):\n",
    "            return node\n",
    "        for child in expand(problem, node):\n",
    "            s = child.state\n",
    "            if s not in reached or child.path_cost < reached[s].path_cost:\n",
    "                reached[s] = child\n",
    "                frontier.add(child)\n",
    "    return failure\n",
    "\n",
    "\n",
    "def uniform_cost_search(problem):\n",
    "    \"Search nodes with minimum path cost first.\"\n",
    "    return best_first_search(problem, f=g)"
   ]
  },
  {
   "cell_type": "code",
   "execution_count": 4,
   "id": "92db2608",
   "metadata": {},
   "outputs": [],
   "source": [
    "class RouteProblem(Problem):\n",
    "    \"\"\"A problem to find a route between locations on a `Map`.\n",
    "    Create a problem with RouteProblem(start, goal, map=Map(...)}).\n",
    "    States are the vertexes in the Map graph; actions are destination states.\"\"\"\n",
    "    \n",
    "    def actions(self, state): \n",
    "        \"\"\"The places neighboring `state`.\"\"\"\n",
    "        #print(self.map.neighbors[state])#añadido para ver\n",
    "        return self.map.neighbors[state]\n",
    "    \n",
    "    def result(self, state, action):\n",
    "        \"\"\"Go to the `action` place, if the map says that is possible.\"\"\"\n",
    "        return action if action in self.map.neighbors[state] else state\n",
    "    \n",
    "    def action_cost(self, s, action, s1):\n",
    "        \"\"\"The distance (cost) to go from s to s1.\"\"\"\n",
    "        return self.map.distances[s, s1]\n",
    "    \n",
    "    def h(self, node):\n",
    "        \"Straight-line distance between state and the goal.\"\n",
    "        locs = self.map.locations\n",
    "        return straight_line_distance(locs[node.state], locs[self.goal])\n",
    "    \n",
    "    \n",
    "def straight_line_distance(A, B):\n",
    "    \"Straight-line distance between two points.\"\n",
    "    return sum(abs(a - b)**2 for (a, b) in zip(A, B)) ** 0.5"
   ]
  },
  {
   "cell_type": "code",
   "execution_count": 5,
   "id": "78a76875",
   "metadata": {},
   "outputs": [],
   "source": [
    "class Map:\n",
    "    \"\"\"A map of places in a 2D world: a graph with vertexes and links between them. \n",
    "    In `Map(links, locations)`, `links` can be either [(v1, v2)...] pairs, \n",
    "    or a {(v1, v2): distance...} dict. Optional `locations` can be {v1: (x, y)} \n",
    "    If `directed=False` then for every (v1, v2) link, we add a (v2, v1) link.\"\"\"\n",
    "\n",
    "    def __init__(self, links, locations=None, directed=False):\n",
    "        if not hasattr(links, 'items'): # Distances are 1 by default\n",
    "            links = {link: 1 for link in links}\n",
    "        if not directed:\n",
    "            for (v1, v2) in list(links):\n",
    "                links[v2, v1] = links[v1, v2]\n",
    "        self.distances = links\n",
    "        self.neighbors = multimap(links)\n",
    "        self.locations = locations or defaultdict(lambda: (0, 0))\n",
    "        \n",
    "        \n",
    "        \n",
    "def multimap(pairs) -> dict:\n",
    "    \"Given (key, val) pairs, make a dict of {key: [val,...]}.\"\n",
    "    result = defaultdict(list)\n",
    "    for key, val in pairs:\n",
    "        result[key].append(val)\n",
    "    return result "
   ]
  },
  {
   "cell_type": "markdown",
   "id": "be44df8b",
   "metadata": {},
   "source": [
    "**4. Aplique uno o más de los algoritmos de este capítulo para resolver una variedad de problemas en el dominio y comente su desempeño.**\n",
    "**Formulacion del problema:** Este problema se puede formular de manera similar al ejemplo Romania, en este caso cada uno de los vertices se comportaria de manera similar a las ciudades. En la figura se meustran todos los vertices con su correspondiente etiqueta y se muestran las rutas mas importantes.\n",
    "<img src=\"https://drive.google.com/uc?id=1_5r-bi1WiG_j_zxhm5M6UaVpEceiLZ01\" alt=\"agent\" width=\"700\" height=\"600\"/>\n",
    "\n",
    "Dado a que no se tiene informacion de la distancia entre los vertices, se asumio que se tiene una distancia de 1 para cada tramo. \n",
    "\n",
    "La declaracion de los tramos y distancias se muestra en la parte de abajo."
   ]
  },
  {
   "cell_type": "code",
   "execution_count": 6,
   "id": "477b8ef9",
   "metadata": {},
   "outputs": [],
   "source": [
    "Figuras = Map(\n",
    "    {('S', 'V1'):  1, ('S', 'V4'): 1, ('S', 'V8'): 1, ('V1', 'V5'): 1, ('V1', 'V11'): 1, \n",
    "     ('V4', 'V3'): 1, ('V5', 'V12'):  1, ('V8', 'V7'): 1, ('V7', 'V15'): 1, ('V12', 'V16'): 1, \n",
    "     ('V16', 'V15'): 1, ('V15', 'V23'):  1, ('V11', 'V14'): 1, ('V11', 'V17'): 1, ('V14', 'V23'): 1, \n",
    "     ('V23', 'V22'):  1, ('V22', 'V32'):  1, ('V17', 'V19'): 1, ('V19', 'V29'):  1, ('V3', 'V24'): 1, \n",
    "     ('V24', 'V29'):  1, ('V3', 'V26'):  1, ('V26', 'V27'): 1, ('V3', 'V26'):  1, ('V26', 'V27'): 1, \n",
    "     ('V27', 'V30'):  1, ('V30', 'V29'): 1, ('V29', 'V33'):  1, ('V33', 'V32'): 1, ('V32', 'G'): 1, ('V30', 'VG'): 1})\n",
    "\n",
    "r0 = RouteProblem('S', 'G', map=Figuras) #son las rutas"
   ]
  },
  {
   "cell_type": "code",
   "execution_count": 7,
   "id": "9a4f8955",
   "metadata": {},
   "outputs": [
    {
     "data": {
      "text/plain": [
       "['S', 'V4', 'V3', 'V24', 'V29', 'V33', 'V32', 'G']"
      ]
     },
     "execution_count": 7,
     "metadata": {},
     "output_type": "execute_result"
    }
   ],
   "source": [
    "path_states(uniform_cost_search(r0))"
   ]
  },
  {
   "cell_type": "markdown",
   "id": "4a6fe595",
   "metadata": {},
   "source": [
    "Con la funcion \"uniform_cost_search\" se obtuvo la siguiente ruta.\n",
    "\n",
    "\n",
    "<img src=\"https://drive.google.com/uc?id=1KZ0ue-rFfaALE8I2CFakSaTwV--JKeaP\" alt=\"agent\" width=\"700\" height=\"600\"/>"
   ]
  },
  {
   "cell_type": "code",
   "execution_count": 8,
   "id": "8b095099",
   "metadata": {
    "scrolled": true
   },
   "outputs": [
    {
     "data": {
      "text/plain": [
       "['S', 'V1', 'V11', 'V14', 'V23', 'V22', 'V32', 'G']"
      ]
     },
     "execution_count": 8,
     "metadata": {},
     "output_type": "execute_result"
    }
   ],
   "source": [
    "path_states(breadth_first_search(r0))"
   ]
  },
  {
   "cell_type": "markdown",
   "id": "43d6321b",
   "metadata": {},
   "source": [
    "Mientras que con la funcion \"breadth_first_search\" se obtuvo la siguiente ruta.\n",
    "<img src=\"https://drive.google.com/uc?id=1jpb7Kw_23DRsA4dXPW2aP8dDfh1h4YKG\" alt=\"agent\" width=\"700\" height=\"600\"/>\n",
    "\n"
   ]
  },
  {
   "cell_type": "markdown",
   "id": "07245f39",
   "metadata": {},
   "source": [
    "Con el objetivo de considerar las distancias, se elaboro un plano cartesiano del entorno de donde se pudo obtener las coordenadas y distancias entre vertices. La figura de abajo muestra el plano cartesiano realizado.\n",
    "\n",
    "\n",
    "<img src=\"https://drive.google.com/uc?id=1XT5-XKj9DKOzdMOfazyQ7expcA3nnTHQ\" alt=\"agent\" width=\"700\" height=\"600\"/>"
   ]
  },
  {
   "cell_type": "code",
   "execution_count": 9,
   "id": "fac1bce2",
   "metadata": {},
   "outputs": [],
   "source": [
    "#considerando distancias\n",
    "\n",
    "Figuras2 = Map(\n",
    "    {('S', 'V1'):  3.354, ('S', 'V4'): 2.5, ('S', 'V8'): 12, ('V1', 'V5'): 5.59, ('V1', 'V11'): 13.153, \n",
    "     ('V4', 'V3'): 16, ('V5', 'V12'):  9.01, ('V8', 'V7'): 7.81, ('V7', 'V15'): 13, ('V12', 'V16'): 4.61, \n",
    "     ('V16', 'V15'): 4.03, ('V15', 'V23'):  4.16, ('V11', 'V14'): 11.4, ('V11', 'V17'): 4.472, ('V14', 'V23'): 2.236, \n",
    "     ('V23', 'V22'):  6, ('V22', 'V32'):  4, ('V17', 'V19'): 6.403, ('V19', 'V29'):  6.708, ('V3', 'V24'): 9.434, \n",
    "     ('V24', 'V29'):  5, ('V3', 'V26'):  11, ('V26', 'V27'): 4.123, ('V26', 'V27'): 4.123, \n",
    "     ('V27', 'V30'):  6, ('V30', 'V29'): 3.162, ('V29', 'V33'):  9, ('V33', 'V32'): 3.162, ('V32', 'G'): 2, ('V30', 'VG'): 11.18},\n",
    "    {'S': (8.5, 3),'V1': (10, 6),'V2': (26, 6),'V3': (26, 1),'V4': (10, 1),'V5': (15, 8.5),\n",
    "     'V6': (18, 15),'V7': (14, 20),'V8': (8, 15),'V9': (9.5, 8.5),'V10': (18, 8),'V11': (23, 8),\n",
    "     'V12': (20, 16),'V13': (23, 13),'V14': (30, 17),'V15': (27, 20),'V16': (23, 19.5),'V17': (27, 10),\n",
    "     'V18': (28, 3),'V19': (32, 6),'V20': (31, 9),'V21': (37, 9),'V22': (37, 19),'V23': (31, 19),\n",
    "     'V24': (34, 6),'V25': (34, 2),'V26': (37, 1),'V27': (41, 2),'V28': (41, 6),'V29': (38, 9),\n",
    "     'V30': (41, 8),'V31': (42, 17.5),'V32': (41, 19),'V33': (38, 18),'G': (43, 19)})\n",
    "\n",
    "r0 = RouteProblem('S', 'G', map=Figuras2) #son las rutas"
   ]
  },
  {
   "cell_type": "code",
   "execution_count": 10,
   "id": "c8a56b50",
   "metadata": {},
   "outputs": [
    {
     "data": {
      "text/plain": [
       "['S', 'V1', 'V11', 'V14', 'V23', 'V22', 'V32', 'G']"
      ]
     },
     "execution_count": 10,
     "metadata": {},
     "output_type": "execute_result"
    }
   ],
   "source": [
    "path_states(uniform_cost_search(r0))"
   ]
  },
  {
   "cell_type": "code",
   "execution_count": 11,
   "id": "8ef475e7",
   "metadata": {},
   "outputs": [
    {
     "data": {
      "text/plain": [
       "['S', 'V1', 'V11', 'V14', 'V23', 'V22', 'V32', 'G']"
      ]
     },
     "execution_count": 11,
     "metadata": {},
     "output_type": "execute_result"
    }
   ],
   "source": [
    "path_states(breadth_first_search(r0))"
   ]
  },
  {
   "cell_type": "markdown",
   "id": "7654d540",
   "metadata": {},
   "source": [
    "En este caso, ambos algoritmos de busqueda obtuvieron la misma ruta.\n",
    "\n",
    "\n",
    "<img src=\"https://drive.google.com/uc?id=1GahyOOt__MWN76Og4ais-Yhzi1T4stqR\" alt=\"agent\" width=\"700\" height=\"600\"/>"
   ]
  },
  {
   "cell_type": "markdown",
   "id": "6c61111c",
   "metadata": {},
   "source": [
    "\n",
    "\n",
    "\n",
    "\n",
    "\n"
   ]
  },
  {
   "cell_type": "markdown",
   "id": "62bff0a4",
   "metadata": {},
   "source": [
    "## B. Ejercicio 3.9\n",
    "El problema de los misioneros y los caníbales suele plantearse de la siguiente manera. Tres misioneros y tres caníbales están a un lado de un río, junto con un bote que puede llevar a una o dos personas. Encuentre una manera de llevar a todos al otro lado sin dejar nunca a un grupo de misioneros en un lugar superado en número por los caníbales en ese lugar. Este problema es famoso en IA porque fue el tema del primer artículo que abordó la formulación de problemas desde un punto de vista analítico (Amarel, 1968)."
   ]
  },
  {
   "cell_type": "markdown",
   "id": "b8d2499d",
   "metadata": {},
   "source": [
    "**1. Formule el problema con precisión, haciendo solo las distinciones necesarias para asegurar una solución válida. Dibuje un diagrama del espacio de estado completo.**\n",
    "\n",
    "Sean $CCC$ y $MMM$ el grupo de tres caníbales y tres misioneros, respectivamente, descritos en el problema. Inicialmente las seis personas se encuentran a un lado del río y la meta es cruzarlos a todos evitando que el grupo de caníbales que quede a un lado del río supere en número al grupo de misioneros.\n",
    "\n",
    "El principal objetivo de este problema es encontrar una sucesión de movimientos que permita cruzar a las seis personas al otro lado del río sin poner en peligro la vida de los misioneros.\n",
    "\n",
    "El problema será resuelto mediante la aplicación de algoritmos de búsqueda, como el algoritmo depth search o el algoritmo breadth search. \n",
    "\n",
    "La solución óptima consiste en una secuencia de $11$ pasos, considerando que inicialmente se localizan en el lado izquierdo y una solución es la siguiente:\n",
    "\n",
    "1. Dos caníbales cruzan el río hacia el lado derecho.\n",
    "2. Uno de los caníbales vuelve el lado izquierdo.\n",
    "3. Dos caníbales cruzan el río hacia el lado derecho.\n",
    "4. Uno de los caníbales vuelve el lado izquierdo.\n",
    "5. Dos misioneros cruzan el río hacia el lado derecho.\n",
    "6. Uno de los misioneros y uno de los caníbales vuelven al lado izquierdo.\n",
    "7. Dos misioneros cruzan el río hacia el lado derecho.\n",
    "8. Uno de los caníbales vuelve el lado izquierdo.\n",
    "9. Dos caníbales cruzan el río hacia el lado derecho.\n",
    "10. Uno de los caníbales vuelve el lado izquierdo.\n",
    "11. Dos caníbales cruzan el río hacia el lado derecho.\n"
   ]
  },
  {
   "cell_type": "markdown",
   "id": "b44a1d99",
   "metadata": {},
   "source": [
    "#### Diagrama de la solución: Cada letra \"C\" y \"M\" representan un caníbal y un misionero, respectivamente; $B(\\cdot)$  representa el barco con el cual cruzan el río\n",
    "\n",
    "| Lado derecho                     |        Río               |              Lado izquierdo    |\n",
    "|:---------------------------------|:------------------------:|-------------------------------:|\n",
    "|                                  |     Estado inicial       |                                |\n",
    "|$CCC$ $MMM$                       |  $B(\\cdot)$              |                                |\n",
    "|                                  |    Comienzo del juego    |                                |\n",
    "|Paso 1:<br>$C$ $MMM$              |  $B(CC)$ $-->$           | $CC$                           |\n",
    "|Paso 2: <br>$CC$ $MMM$            |  $<--$ $B(C)$            | $C$                            |\n",
    "|Paso 3: <br>$MMM$                 |  $B(CC)$ $-->$           | $CCC$                          |\n",
    "|Paso 4: <br>$C$ $MMM$             |  $<--$ $B(C)$            | $CC$                           |\n",
    "|Paso 5: <br>$C$ $M$               |  $B(MM)$ $-->$           | $CCMM$                         |\n",
    "|Paso 6: <br>$CC$ $MM$             |  $<--$$B(CM)$            | $CM$                           |\n",
    "|Paso 7: <br>$CC$                  |  $B(MM)$ $-->$           | $CMMM$                         |\n",
    "|Paso 8: <br>$CCC$                 |  $<--$$B(C)$             | $MMM$                          |\n",
    "|Paso 9: <br>$C$                   |  $B(CC)$ $-->$           | $CCMMM$                        |\n",
    "|Paso 10: <br>$CC$                 |  $<--$$B(C)$             | $CMMM$                         |\n",
    "|Paso 11: <br>                     |  $B(CC)$ $-->$           | $CCCMMM$                       |\n",
    "|                                  |     Estado Final         |                                |\n",
    "|                                  |  $B(\\cdot)$              |  $CCC$ $MMM$                   |"
   ]
  },
  {
   "cell_type": "markdown",
   "id": "fe19473c",
   "metadata": {},
   "source": [
    "**2. Implementar y resolver el problema de manera óptima utilizando un algoritmo de búsqueda adecuado. ¿Es una buena idea comprobar si hay estados repetidos?**\n",
    "\n",
    "Para la implementación del programa que resuelve el problema se consideró el algoritmo Depth First Search, DFS, por sus siglas en inglés. La implementación del algoritmo se realizó utilizando un ciclo while que se ejecuta de forma indefinidamente y dos ciclos while encajados, los cuales se encargan de manejar los datos ingresados por el jugador, como ser el número de misioneros y caníbales que participan en un determinado viaje de un lado del río al otro. El algoritmo DFS es utilizado para explorar todas las posibles combinaciones de movimiento de misioneros y caníbales hasta que se alcanza el estado final o en su defecto el juego se ha pérdido porque los caníbales se han comido a los misioneros."
   ]
  },
  {
   "cell_type": "code",
   "execution_count": null,
   "id": "f2fa36a1",
   "metadata": {},
   "outputs": [],
   "source": [
    "#Python programa para ilustrar el problema misioneros y caníbales \n",
    "#Código original creado por Sunit Mal\n",
    "print(\"\\n\")\n",
    "print(\"\\tComienzo del Juego\")\n",
    "print(\"El objetivo es moverlos a todos al lado derecho del río.\")\n",
    "print(\"Reglas:\")\n",
    "print(\"1. El barco puede llevar un máximo dos personas.\")\n",
    "print(\"2. Si los caníbales son más numerosos que los misioneros, los caníbales se comeran a los misioneros.\")\n",
    "print(\"3. El barco no puede cruzar el río sin personas a bordo.\")\n",
    "\n",
    "lM = 3\t\t #lM = Número de misioneros al lado izquierdo\n",
    "lC = 3\t\t #lC = Número de caníbales al lado izquierdo\n",
    "rM=0\t\t #rM = Número de misioneros al lado derecho\n",
    "rC=0\t\t #rC = Número de caníbales al lado derecho\n",
    "userM = 0\t #userM = Entrada del usuario para el número de misioneros para viajes de derecha a izquierda\n",
    "userC = 0\t #userC = Entrada del usuario para el número de caníbales para viajar de derecha a izquierda\n",
    "k = 0\n",
    "print(\"\\nM M M C C C |\t --- | \\n\")\n",
    "try:\n",
    "\twhile(True):\n",
    "\t\twhile(True):\n",
    "\t\t\tprint(\"Lado izquierdo -> viaje al lado derecho del río\")\n",
    "\t\t\t#uM = entrada del usuario para el número de misioneros para viajar de izquierda a derecha\n",
    "\t\t\t#uC = entrada del usuario para el número de caníbales para viajar de izquierda a derecha\n",
    "\t\t\tuM = int(input(\"Ingrese el número de misioneros en el viaje => \"))\t\n",
    "\t\t\tuC = int(input(\"Ingrese el número de caníbales en el viaje => \"))\n",
    "\n",
    "\t\t\tif((uM==0)and(uC==0)):\n",
    "\t\t\t\tprint(\"No es posible viajar vacío\")\n",
    "\t\t\t\tprint(\"Reintentelo : \")\n",
    "\t\t\telif(((uM+uC) <= 2)and((lM-uM)>=0)and((lC-uC)>=0)):\n",
    "\t\t\t\tbreak\n",
    "\t\t\telse:\n",
    "\t\t\t\tprint(\"Entrada incorrecta, reingresar una nueva entrada : \")\n",
    "\t\tlM = (lM-uM)\n",
    "\t\tlC = (lC-uC)\n",
    "\t\trM += uM\n",
    "\t\trC += uC\n",
    "\n",
    "\t\tprint(\"\\n\")\n",
    "\t\tfor i in range(0,lM):\n",
    "\t\t\tprint(\"M \",end=\"\")\n",
    "\t\tfor i in range(0,lC):\n",
    "\t\t\tprint(\"C \",end=\"\")\n",
    "\t\tprint(\"| --> | \",end=\"\")\n",
    "\t\tfor i in range(0,rM):\n",
    "\t\t\tprint(\"M \",end=\"\")\n",
    "\t\tfor i in range(0,rC):\n",
    "\t\t\tprint(\"C \",end=\"\")\n",
    "\t\tprint(\"\\n\")\n",
    "\n",
    "\t\tk +=1\n",
    "\n",
    "\t\tif(((lC==3)and (lM == 1))or((lC==3)and(lM==2))or((lC==2)and(lM==1))or((rC==3)and (rM == 1))or((rC==3)and(rM==2))or((rC==2)and(rM==1))):\n",
    "\t\t\tprint(\"Caníbales se comen a los misioneros:\\nPerdiste el juego\")\n",
    "\n",
    "\t\t\tbreak\n",
    "\n",
    "\t\tif((rM+rC) == 6):\n",
    "\t\t\tprint(\"Ganaste el juego : \\n\\tFelicidades\")\n",
    "\t\t\tprint(\"Total de viajes\")\n",
    "\t\t\tprint(k)\n",
    "\t\t\tbreak\n",
    "\t\twhile(True):\n",
    "\t\t\tprint(\"Lado derecho -> Viaje al lado izquierdo del río\")\n",
    "\t\t\tuserM = int(input(\"Ingrese el número de misioneros en el viaje => \"))\n",
    "\t\t\tuserC = int(input(\"Ingrese el número de caníbales en el viaje  => \"))\n",
    "\t\t\t\n",
    "\t\t\tif((userM==0)and(userC==0)):\n",
    "\t\t\t\t\tprint(\"No es posible viajar vacío\")\n",
    "\t\t\t\t\tprint(\"Reintentelo : \")\n",
    "\t\t\telif(((userM+userC) <= 2)and((rM-userM)>=0)and((rC-userC)>=0)):\n",
    "\t\t\t\tbreak\n",
    "\t\t\telse:\n",
    "\t\t\t\tprint(\"Entrada incorrecta, reingresar una nueva entrada  : \")\n",
    "\t\tlM += userM\n",
    "\t\tlC += userC\n",
    "\t\trM -= userM\n",
    "\t\trC -= userC\n",
    "\n",
    "\t\tk +=1\n",
    "\t\tprint(\"\\n\")\n",
    "\t\tfor i in range(0,lM):\n",
    "\t\t\tprint(\"M \",end=\"\")\n",
    "\t\tfor i in range(0,lC):\n",
    "\t\t\tprint(\"C \",end=\"\")\n",
    "\t\tprint(\"| <-- | \",end=\"\")\n",
    "\t\tfor i in range(0,rM):\n",
    "\t\t\tprint(\"M \",end=\"\")\n",
    "\t\tfor i in range(0,rC):\n",
    "\t\t\tprint(\"C \",end=\"\")\n",
    "\t\tprint(\"\\n\")\n",
    "\n",
    "\t\n",
    "\n",
    "\t\tif(((lC==3)and (lM == 1))or((lC==3)and(lM==2))or((lC==2)and(lM==1))or((rC==3)and (rM == 1))or((rC==3)and(rM==2))or((rC==2)and(rM==1))):\n",
    "\t\t\tprint(\"Caníbales se comen a los misioneros:\\nPerdiste el juego\")\n",
    "\t\t\tbreak\n",
    "except EOFError as e:\n",
    "\tprint(\"\\nEntrada no válida, vuelva a intentarlo!!\")\n"
   ]
  },
  {
   "cell_type": "markdown",
   "id": "e1e65789",
   "metadata": {},
   "source": [
    "**3. ¿Por qué crees que a la gente le cuesta resolver este rompecabezas, dado que el espacio de estado es tan simple?**\n",
    "\n",
    "A pesar de que el espacio de estados del problema es relativamente pequeño y simple, las personas pueden tener dificultades para resolverlo debido a su naturaleza engañosa. El problema requiere una planificación cuidadosa y pensar con anticipación para evitar quedar atrapado en un estado donde los caníbales superan en número a los misioneros a ambos lados del río. Además, el problema involucra a múltiples agentes (misioneros y caníbales) que deben coordinarse para lograr el objetivo, lo que puede dificultar el razonamiento sobre las posibles acciones y sus consecuencias. Finalmente, el problema tiene múltiples soluciones válidas, lo que puede aumentar la complejidad de encontrar una solución óptima. En general, el problema puede ser un desafío para las personas debido a su naturaleza combinatoria y la necesidad de una planificación y coordinación cuidadosas.\n",
    "\n"
   ]
  },
  {
   "cell_type": "markdown",
   "id": "630deedb",
   "metadata": {},
   "source": [
    "# III. DISCUCIONES\n",
    "\n",
    "Para el primer ejercicio, se observó que si el espacio de estados consta de todas las posiciones (x, y) en el plano, entonces hay un número infinito de estados, ya que tanto x como y pueden tomar cualquier valor real. El número de caminos hacia la meta dependerá de las posiciones de inicio y meta, pero será un número muy grande ya que hay infinitos estados. por lo tanto, el camino más corto de un vértice de un polígono a cualquier otro en la escena debe consistir en segmentos de línea recta que unen algunos de los vértices de los polígonos porque los obstáculos son convexos. Esto significa que cualquier segmento de línea que conecte dos puntos dentro del obstáculo permanecerá completamente dentro del obstáculo. Un buen espacio de estado para este problema consistiría en todos los caminos posibles que conectan los vértices de los polígonos. El tamaño de este espacio de estados dependerá del número de vértices y de la complejidad de los obstáculos poligonales.\n",
    "\n",
    "Así mismo, se usaron los algoritmos de búsqueda \"uniform_cost_search\" y \"breadth_first_search\" para obtener la mejor ruta para el problema planteado. En una primera búsqueda en la cual se le dio una distancia de 1 a todos los tramos, ambos algoritmos dieron rutas diferentes. A pesar de ser diferentes ambas rutas, sumando las distancias, en ambos casos se obtuvo la misma distancia total. En este entender ambos algoritmos cumplieron su objetivo y de manera óptima. En un segundo caso se asignaron distancias a cada uno de los tramos. Estas distancias se obtuvieron luego de realizar un plano cartesiano del entorno. En esta búsqueda ambos algoritmos entregaron la misma, consiguiendo de esta forma la ruta optima y cumpliendo con su objetivo.\n",
    "\n",
    "\n",
    "En el segundo erjecicio el problema se resolvió mediante la aplicación de algoritmos de búsqueda, como el algoritmo depth search o el algoritmo breadth search. En este escenario, se utilizó el algoritmo Depth First Search (DFS) en la cual se empleó un bucle while en el algoritmo, que se ejecuta indefinidamente y dos bucles while anidados para administrar los datos de entrada del jugador, como la cantidad de misioneros y caníbales participantes para cada viaje de un lado del río al otro. DFS se utilizó para explorar todas las posibles combinaciones de movimiento de misioneros y caníbales hasta que se alcanzó el estado final o se perdió el juego debido a que los caníbales consumieron a los misioneros.\n"
   ]
  },
  {
   "cell_type": "markdown",
   "id": "4f38f139",
   "metadata": {},
   "source": [
    "# IV. CONCLUSIONES\n",
    "\n",
    "Los ejercicios destacaron que la resolución de problemas puede involucrar una variedad de técnicas y enfoques, dependiendo del problema específico en cuestión. Por ejemplo, vimos que los agentes reflejos son adecuados para situaciones en las que el mapeo de estado a acción es relativamente simple, mientras que los agentes basados en objetivos pueden considerar resultados futuros y tomar decisiones basadas en esas predicciones. Además, se pudo observar que los agentes de resolución de problemas pueden usar representaciones atómicas para modelar estados, pero pueden ser necesarias representaciones más avanzadas para los agentes de planificación. \n",
    "\n",
    "Se observo para el primer ejercicio que los dos algoritmos usados lograron su objetivo y de manera óptima, también se observó que si tiene más de una ruta optima, la selección de la ruta dependerá del tipo de algoritmo de búsqueda empleado.\n",
    "\n",
    "En general, estos ejercicios demostraron que la resolución de problemas es un proceso multifacético y desafiante que puede requerir una variedad de técnicas y estrategias para llegar a una solución óptima. Sin embargo, al analizar cuidadosamente el problema en cuestión y aplicar los algoritmos y representaciones apropiados, podemos superar estos desafíos y llegar a soluciones efectivas.\n",
    "\n"
   ]
  },
  {
   "cell_type": "markdown",
   "id": "6226db45",
   "metadata": {},
   "source": [
    "# V. REFERENCIAS"
   ]
  },
  {
   "cell_type": "code",
   "execution_count": null,
   "id": "13d5a229",
   "metadata": {},
   "outputs": [],
   "source": [
    "[1] S. Russell, P. Norvig, “Artificial Intelligence”, 3st ed., Pearson, Ed. Pearson, 2010.\n",
    "\n",
    "[2] UC Berkeley code repository, “aimacode” https://github.com/aimacode, (accessed: 03.09.2023)."
   ]
  }
 ],
 "metadata": {
  "kernelspec": {
   "display_name": "Python 3 (ipykernel)",
   "language": "python",
   "name": "python3"
  },
  "language_info": {
   "codemirror_mode": {
    "name": "ipython",
    "version": 3
   },
   "file_extension": ".py",
   "mimetype": "text/x-python",
   "name": "python",
   "nbconvert_exporter": "python",
   "pygments_lexer": "ipython3",
   "version": "3.9.13"
  }
 },
 "nbformat": 4,
 "nbformat_minor": 5
}
